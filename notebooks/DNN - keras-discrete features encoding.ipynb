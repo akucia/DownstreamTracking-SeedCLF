{
 "cells": [
  {
   "cell_type": "code",
   "execution_count": 1,
   "metadata": {
    "collapsed": true
   },
   "outputs": [],
   "source": [
    "import pandas as pd\n",
    "import numpy as np\n",
    "import matplotlib.pyplot as plt\n",
    "%matplotlib inline\n",
    "import sys\n",
    "sys.path.append(\"../\")\n",
    "DATA_PATH = '../data/'\n",
    "data = pd.read_pickle(DATA_PATH + 'train_data.pkl')"
   ]
  },
  {
   "cell_type": "markdown",
   "metadata": {},
   "source": [
    "## Data"
   ]
  },
  {
   "cell_type": "code",
   "execution_count": 2,
   "metadata": {
    "collapsed": true
   },
   "outputs": [],
   "source": [
    "# sample size\n",
    "k = 1\n",
    "data = data.sample(frac=k, random_state=137)"
   ]
  },
  {
   "cell_type": "code",
   "execution_count": 3,
   "metadata": {},
   "outputs": [],
   "source": [
    "%load_ext autoreload\n",
    "%autoreload 2"
   ]
  },
  {
   "cell_type": "code",
   "execution_count": 4,
   "metadata": {},
   "outputs": [
    {
     "name": "stdout",
     "output_type": "stream",
     "text": [
      "<class 'pandas.core.frame.DataFrame'>\n",
      "Int64Index: 1754766 entries, 1042314 to 3481\n",
      "Data columns (total 9 columns):\n",
      "is_downstream_reconstructible    int64\n",
      "seed_chi2PerDoF                  float32\n",
      "seed_p                           float32\n",
      "seed_pt                          float32\n",
      "seed_nLHCbIDs                    float32\n",
      "seed_x                           float32\n",
      "seed_y                           float32\n",
      "seed_tx                          float32\n",
      "seed_ty                          float32\n",
      "dtypes: float32(8), int64(1)\n",
      "memory usage: 80.3 MB\n"
     ]
    }
   ],
   "source": [
    "# scaling data\n",
    "from data_pipeline import data_pipeline_3 as data_pipeline\n",
    "from data_pipeline import dropFalseMCParticles\n",
    "\n",
    "pipeline = data_pipeline()\n",
    "\n",
    "unused_features = [\n",
    "    'index',\n",
    "    'has_MCParticle_not_electron',\n",
    "    'is_downstream_reconstructible_not_electron',\n",
    "    'is_true_seed',\n",
    "    'seed_mva_value',\n",
    "    'seed_nbIT',\n",
    "    'seed_nLayers'\n",
    "]\n",
    "\n",
    "data = data.drop(unused_features, axis=1)\n",
    "data = dropFalseMCParticles().fit_transform(data)\n",
    "data = data.astype(np.float32)\n",
    "data['is_downstream_reconstructible'] = data['is_downstream_reconstructible'].astype(np.int64)\n",
    "data.info()"
   ]
  },
  {
   "cell_type": "code",
   "execution_count": 5,
   "metadata": {
    "collapsed": true
   },
   "outputs": [],
   "source": [
    "from sklearn.preprocessing import OneHotEncoder\n",
    "\n",
    "def split_features(data):\n",
    "    ohe_seed_nLHCbIDs = OneHotEncoder(35)\n",
    "    seed_nLHCbIDs_one_hot = ohe_seed_nLHCbIDs.fit_transform(data['seed_nLHCbIDs'].values.reshape(-1,1)).todense()\n",
    "    seed_nLHCbIDs_one_hot_df = pd.DataFrame(\n",
    "        seed_nLHCbIDs_one_hot,\n",
    "        columns=['_'.join(['seed_nLHCbIDs', str(i)]) for i in range(seed_nLHCbIDs_one_hot.shape[1])]\n",
    "    )\n",
    "    \n",
    "#     ohe_seed_nbIT = OneHotEncoder(24)\n",
    "#     seed_nbIT_one_hot = ohe_seed_nbIT.fit_transform(data['seed_nbIT'].values.reshape(-1,1)).todense()\n",
    "#     seed_nbIT_one_hot_df = pd.DataFrame(\n",
    "#         seed_nbIT_one_hot,\n",
    "#         columns=['_'.join(['seed_nbIT', str(i)]) for i in range(seed_nbIT_one_hot.shape[1])]\n",
    "#     )\n",
    "    \n",
    "#     ohe_seed_nLayers = OneHotEncoder(13)\n",
    "#     seed_nLayers_one_hot = ohe_seed_nLayers.fit_transform(data['seed_nLayers'].values.reshape(-1,1)).todense()\n",
    "#     seed_nLayers_one_hot_df = pd.DataFrame(\n",
    "#         seed_nLayers_one_hot,\n",
    "#         columns=['_'.join(['seed_nLayers', str(i)]) for i in range(seed_nLayers_one_hot.shape[1])]\n",
    "#     )\n",
    "    del data['seed_nLHCbIDs']\n",
    "#     del data['seed_nbIT']\n",
    "#     del data['seed_nLayers']\n",
    "    \n",
    "    return data, seed_nLHCbIDs_one_hot_df #, seed_nbIT_one_hot_df, seed_nLayers_one_hot_df"
   ]
  },
  {
   "cell_type": "code",
   "execution_count": 6,
   "metadata": {
    "collapsed": true
   },
   "outputs": [],
   "source": [
    "# split on train and test\n",
    "from sklearn.model_selection import train_test_split\n",
    "\n",
    "train_set, test_set = train_test_split(data, test_size=0.3, random_state=42)\n",
    "\n",
    "x_train = train_set.drop(['is_downstream_reconstructible'], axis=1)\n",
    "x_train = pipeline.fit_transform(x_train)\n",
    "y_train = train_set['is_downstream_reconstructible'].copy()\n",
    "\n",
    "x_test = test_set.drop(['is_downstream_reconstructible'], axis=1)\n",
    "x_test = pipeline.transform(x_test)\n",
    "y_test = test_set['is_downstream_reconstructible'].copy()"
   ]
  },
  {
   "cell_type": "code",
   "execution_count": 7,
   "metadata": {
    "collapsed": true
   },
   "outputs": [],
   "source": [
    "# x_train, x_train_nLHCbIDs, x_train_nbIT, x_train_nLayers = split_features(x_train)\n",
    "x_train, x_train_nLHCbIDs = split_features(x_train)"
   ]
  },
  {
   "cell_type": "code",
   "execution_count": 8,
   "metadata": {
    "collapsed": true
   },
   "outputs": [],
   "source": [
    "# x_test, x_test_nLHCbIDs, x_test_nbIT, x_test_nLayers = split_features(x_test)\n",
    "x_test, x_test_nLHCbIDs = split_features(x_test)"
   ]
  },
  {
   "cell_type": "code",
   "execution_count": 9,
   "metadata": {},
   "outputs": [
    {
     "data": {
      "text/plain": [
       "array([[<matplotlib.axes._subplots.AxesSubplot object at 0x7f6aff64dd68>,\n",
       "        <matplotlib.axes._subplots.AxesSubplot object at 0x7f6af5b4dba8>,\n",
       "        <matplotlib.axes._subplots.AxesSubplot object at 0x7f6af5b02da0>],\n",
       "       [<matplotlib.axes._subplots.AxesSubplot object at 0x7f6af5ad62b0>,\n",
       "        <matplotlib.axes._subplots.AxesSubplot object at 0x7f6af5addbe0>,\n",
       "        <matplotlib.axes._subplots.AxesSubplot object at 0x7f6af5a5be10>],\n",
       "       [<matplotlib.axes._subplots.AxesSubplot object at 0x7f6af5a2c438>,\n",
       "        <matplotlib.axes._subplots.AxesSubplot object at 0x7f6af59e7898>,\n",
       "        <matplotlib.axes._subplots.AxesSubplot object at 0x7f6af59b0f98>],\n",
       "       [<matplotlib.axes._subplots.AxesSubplot object at 0x7f6af59726a0>,\n",
       "        <matplotlib.axes._subplots.AxesSubplot object at 0x7f6af58c0390>,\n",
       "        <matplotlib.axes._subplots.AxesSubplot object at 0x7f6af587d4e0>]], dtype=object)"
      ]
     },
     "execution_count": 9,
     "metadata": {},
     "output_type": "execute_result"
    },
    {
     "data": {
      "image/png": "[encoded data removed]",
      "text/plain": [
       "<matplotlib.figure.Figure at 0x7f6b0a338908>"
      ]
     },
     "metadata": {},
     "output_type": "display_data"
    }
   ],
   "source": [
    "x_train.hist(bins=50, figsize=(15,15))"
   ]
  },
  {
   "cell_type": "code",
   "execution_count": 10,
   "metadata": {
    "collapsed": true
   },
   "outputs": [],
   "source": [
    "# from sklearn.preprocessing import QuantileTransformer\n",
    "# qt = QuantileTransformer()\n",
    "# x_train = pd.DataFrame(qt.fit_transform(x_train.values))\n",
    "# x_test = pd.DataFrame(qt.transform(x_test.values))"
   ]
  },
  {
   "cell_type": "markdown",
   "metadata": {},
   "source": [
    "## Model"
   ]
  },
  {
   "cell_type": "code",
   "execution_count": 11,
   "metadata": {},
   "outputs": [
    {
     "name": "stderr",
     "output_type": "stream",
     "text": [
      "Using TensorFlow backend.\n"
     ]
    },
    {
     "name": "stdout",
     "output_type": "stream",
     "text": [
      "____________________________________________________________________________________________________\n",
      "Layer (type)                     Output Shape          Param #     Connected to                     \n",
      "====================================================================================================\n",
      "nLHCbIDs_input (InputLayer)      (None, 35)            0                                            \n",
      "____________________________________________________________________________________________________\n",
      "dense_1 (Dense)                  (None, 8)             288         nLHCbIDs_input[0][0]             \n",
      "____________________________________________________________________________________________________\n",
      "batch_normalization_1 (BatchNorm (None, 8)             32          dense_1[0][0]                    \n",
      "____________________________________________________________________________________________________\n",
      "dense_2 (Dense)                  (None, 4)             36          batch_normalization_1[0][0]      \n",
      "____________________________________________________________________________________________________\n",
      "batch_normalization_2 (BatchNorm (None, 4)             16          dense_2[0][0]                    \n",
      "____________________________________________________________________________________________________\n",
      "main_input (InputLayer)          (None, 11)            0                                            \n",
      "____________________________________________________________________________________________________\n",
      "dense_3 (Dense)                  (None, 2)             10          batch_normalization_2[0][0]      \n",
      "____________________________________________________________________________________________________\n",
      "concatenate_1 (Concatenate)      (None, 13)            0           main_input[0][0]                 \n",
      "                                                                   dense_3[0][0]                    \n",
      "____________________________________________________________________________________________________\n",
      "dense_4 (Dense)                  (None, 100)           1400        concatenate_1[0][0]              \n",
      "____________________________________________________________________________________________________\n",
      "dropout_1 (Dropout)              (None, 100)           0           dense_4[0][0]                    \n",
      "____________________________________________________________________________________________________\n",
      "batch_normalization_3 (BatchNorm (None, 100)           400         dropout_1[0][0]                  \n",
      "____________________________________________________________________________________________________\n",
      "dense_5 (Dense)                  (None, 100)           10100       batch_normalization_3[0][0]      \n",
      "____________________________________________________________________________________________________\n",
      "dropout_2 (Dropout)              (None, 100)           0           dense_5[0][0]                    \n",
      "____________________________________________________________________________________________________\n",
      "batch_normalization_4 (BatchNorm (None, 100)           400         dropout_2[0][0]                  \n",
      "____________________________________________________________________________________________________\n",
      "dense_6 (Dense)                  (None, 100)           10100       batch_normalization_4[0][0]      \n",
      "____________________________________________________________________________________________________\n",
      "dropout_3 (Dropout)              (None, 100)           0           dense_6[0][0]                    \n",
      "____________________________________________________________________________________________________\n",
      "batch_normalization_5 (BatchNorm (None, 100)           400         dropout_3[0][0]                  \n",
      "____________________________________________________________________________________________________\n",
      "dense_7 (Dense)                  (None, 2)             202         batch_normalization_5[0][0]      \n",
      "====================================================================================================\n",
      "Total params: 23,384\n",
      "Trainable params: 22,760\n",
      "Non-trainable params: 624\n",
      "____________________________________________________________________________________________________\n"
     ]
    }
   ],
   "source": [
    "from keras.wrappers.scikit_learn import KerasClassifier\n",
    "import keras\n",
    "\n",
    "from keras.layers.core import *\n",
    "from keras.layers import *\n",
    "from keras.models import Model\n",
    "from keras.layers import BatchNormalization\n",
    "import keras.backend as K\n",
    "\n",
    "K.clear_session()\n",
    "\n",
    "input_main = Input((x_test.shape[-1], ), name='main_input')\n",
    "input_nLHCbIDs = Input((x_test_nLHCbIDs.shape[-1], ), name='nLHCbIDs_input')\n",
    "# input_nbIT = Input((x_test_nbIT.shape[-1], ), name='nbIT_input')\n",
    "# input_nLayers = Input((x_test_nLayers.shape[-1], ), name='nLayers_input')\n",
    "\n",
    "encoding_dim = 2\n",
    "n_neurons = 100\n",
    "n_layers = 3\n",
    "outputs = 2\n",
    "dropout = 0.05\n",
    "dense_nLHCbIDs = Dense(encoding_dim*4, activation='relu')(input_nLHCbIDs)\n",
    "dense_nLHCbIDs = BatchNormalization()(dense_nLHCbIDs)\n",
    "dense_nLHCbIDs = Dense(encoding_dim*2, activation='relu')(dense_nLHCbIDs)\n",
    "dense_nLHCbIDs = BatchNormalization()(dense_nLHCbIDs)\n",
    "dense_nLHCbIDs = Dense(encoding_dim, activation='relu')(dense_nLHCbIDs)\n",
    "# dense_input_nbIT = Dense(encoding_dim, activation='relu')(input_nbIT)\n",
    "# dense_nLayers = Dense(encoding_dim, activation='relu')(input_nLayers)\n",
    "\n",
    "model = Concatenate()([\n",
    "    input_main,\n",
    "    dense_nLHCbIDs,\n",
    "#     dense_input_nbIT,\n",
    "#     dense_nLayers\n",
    "])\n",
    "for i in range(n_layers):\n",
    "    model = Dense(n_neurons, activation='relu',)(model)\n",
    "    model = Dropout(dropout)(model)\n",
    "    model = BatchNormalization()(model)\n",
    "    \n",
    "output = Dense(outputs, activation='softmax')(model)\n",
    "# model = Model(inputs=[input_main, input_nLHCbIDs, input_nbIT, input_nLayers], outputs=[output])\n",
    "model = Model(inputs=[input_main, input_nLHCbIDs], outputs=[output])\n",
    "model.compile('Adam', 'sparse_categorical_crossentropy', metrics=['accuracy'])\n",
    "model.summary()"
   ]
  },
  {
   "cell_type": "code",
   "execution_count": 12,
   "metadata": {
    "collapsed": true
   },
   "outputs": [],
   "source": [
    "from sklearn.utils import class_weight\n",
    "\n",
    "class_weight = class_weight.compute_class_weight('balanced', np.unique(y_train), y_train)"
   ]
  },
  {
   "cell_type": "code",
   "execution_count": 13,
   "metadata": {
    "scrolled": false
   },
   "outputs": [
    {
     "name": "stdout",
     "output_type": "stream",
     "text": [
      "Train on 1228336 samples, validate on 526430 samples\n",
      "Epoch 1/8\n",
      "1228336/1228336 [==============================] - 288s - loss: 0.3833 - acc: 0.8389 - val_loss: 0.3421 - val_acc: 0.8664\n",
      "Epoch 2/8\n",
      "1228336/1228336 [==============================] - 261s - loss: 0.3531 - acc: 0.8571 - val_loss: 0.3348 - val_acc: 0.8685\n",
      "Epoch 3/8\n",
      "1228336/1228336 [==============================] - 298s - loss: 0.3458 - acc: 0.8606 - val_loss: 0.3231 - val_acc: 0.8762\n",
      "Epoch 4/8\n",
      "1228336/1228336 [==============================] - 230s - loss: 0.3410 - acc: 0.8635 - val_loss: 0.3298 - val_acc: 0.8733\n",
      "Epoch 5/8\n",
      "1228336/1228336 [==============================] - 213s - loss: 0.3381 - acc: 0.8651 - val_loss: 0.3195 - val_acc: 0.8780\n",
      "Epoch 6/8\n",
      "1228336/1228336 [==============================] - 318s - loss: 0.3364 - acc: 0.8660 - val_loss: 0.3246 - val_acc: 0.8767\n",
      "Epoch 7/8\n",
      "1228336/1228336 [==============================] - 308s - loss: 0.3343 - acc: 0.8666 - val_loss: 0.3360 - val_acc: 0.8718\n",
      "Epoch 8/8\n",
      "1228336/1228336 [==============================] - 310s - loss: 0.3327 - acc: 0.8675 - val_loss: 0.3348 - val_acc: 0.8738\n"
     ]
    },
    {
     "data": {
      "text/plain": [
       "<keras.callbacks.History at 0x7f6aa6f68cc0>"
      ]
     },
     "execution_count": 13,
     "metadata": {},
     "output_type": "execute_result"
    }
   ],
   "source": [
    "model.fit(\n",
    "#     x=[x_train.values, x_train_nLHCbIDs.values, x_train_nbIT.values, x_train_nLayers.values],\n",
    "    x=[x_train.values, x_train_nLHCbIDs.values],\n",
    "    y=y_train.values,\n",
    "    epochs=8,\n",
    "    validation_data=(\n",
    "#         [x_test.values, x_test_nLHCbIDs.values, x_test_nbIT.values, x_test_nLayers.values],\n",
    "        [x_test.values, x_test_nLHCbIDs.values],\n",
    "        y_test.values\n",
    "    ),\n",
    "    class_weight=class_weight,\n",
    ")"
   ]
  },
  {
   "cell_type": "code",
   "execution_count": 14,
   "metadata": {
    "collapsed": true
   },
   "outputs": [],
   "source": [
    "def get_classes(predictions_proba):\n",
    "    return np.argmax(predictions_proba, axis=1)"
   ]
  },
  {
   "cell_type": "code",
   "execution_count": 15,
   "metadata": {
    "collapsed": true
   },
   "outputs": [],
   "source": [
    "from sklearn.metrics import accuracy_score, roc_auc_score"
   ]
  },
  {
   "cell_type": "code",
   "execution_count": 16,
   "metadata": {
    "collapsed": true
   },
   "outputs": [],
   "source": [
    "# accuracy_score(y_train.values, get_classes(model.predict([x_train.values, x_train_nLHCbIDs.values, x_train_nbIT.values, x_train_nLayers.values])))\n",
    "\n",
    "# accuracy_score(y_test.values, get_classes(model.predict([x_test.values, x_test_nLHCbIDs.values, x_test_nbIT.values, x_test_nLayers.values])))\n",
    "\n",
    "# roc_auc_score(y_train.values, model.predict([x_train.values, x_train_nLHCbIDs.values, x_train_nbIT.values, x_train_nLayers.values])[:,1])\n",
    "\n",
    "# roc_auc_score(y_test.values, model.predict([x_test.values, x_test_nLHCbIDs.values, x_test_nbIT.values, x_test_nLayers.values])[:,1])"
   ]
  },
  {
   "cell_type": "code",
   "execution_count": 17,
   "metadata": {},
   "outputs": [
    {
     "name": "stdout",
     "output_type": "stream",
     "text": [
      "0.873796746167\n",
      "0.8738331782\n",
      "0.928684668413\n",
      "0.928362745074\n"
     ]
    }
   ],
   "source": [
    "print(accuracy_score(y_train.values, get_classes(model.predict([x_train.values, x_train_nLHCbIDs.values]))))\n",
    "print(accuracy_score(y_test.values, get_classes(model.predict([x_test.values, x_test_nLHCbIDs.values]))))\n",
    "\n",
    "print(roc_auc_score(y_train.values, model.predict([x_train.values, x_train_nLHCbIDs.values])[:,1]))\n",
    "\n",
    "print(roc_auc_score(y_test.values, model.predict([x_test.values, x_test_nLHCbIDs.values])[:,1]))"
   ]
  },
  {
   "cell_type": "code",
   "execution_count": 18,
   "metadata": {},
   "outputs": [
    {
     "name": "stdout",
     "output_type": "stream",
     "text": [
      "addPR()\n",
      "[ 0.17856324]\n",
      "std:  [ 0.17856324]\n",
      "mean:  [ 0.22914613]\n",
      "txScale()\n",
      "[ 0.29576847]\n",
      "std:  [ 0.29576847]\n",
      "mean:  [-0.00422249]\n",
      "addAngle()\n",
      "[ 0.72259562]\n",
      "std:  [ 0.72259562]\n",
      "mean:  [ 0.00140145]\n",
      "addR()\n",
      "[ 519.91120035]\n",
      "std:  [ 519.91120035]\n",
      "mean:  [ 707.61042581]\n",
      "addZ()\n",
      "[ 0.04334942]\n",
      "std:  [ 0.04334942]\n",
      "mean:  [ 0.57604572]\n",
      "tyScale()\n",
      "[ 0.06486862]\n",
      "std:  [ 0.06486862]\n",
      "mean:  [ 0.00013073]\n",
      "ptScale()\n",
      "[ 0.20677143]\n",
      "std:  [ 0.20677143]\n",
      "mean:  [ 3.08250979]\n",
      "chi2PerDoFScaler()\n",
      "[ 0.37649142]\n",
      "std:  [ 0.37649142]\n",
      "mean:  [ 1.23350879]\n",
      "xScale()\n",
      "[ 718.45885408]\n",
      "std:  [ 718.45885408]\n",
      "mean:  [-3.58761813]\n",
      "yScale()\n",
      "[ 504.799883]\n",
      "std:  [ 504.799883]\n",
      "mean:  [ 1.0987292]\n",
      "pScale()\n",
      "[ 0.44031953]\n",
      "std:  [ 0.44031953]\n",
      "mean:  [ 3.89077256]\n"
     ]
    }
   ],
   "source": [
    "for name, step in pipeline.named_steps.items():\n",
    "    print(step)\n",
    "    try:\n",
    "        print(step.scaler.scale_)\n",
    "        print('std: ', step.scaler.scale_)\n",
    "        print('mean: ', step.scaler.mean_)\n",
    "    except Exception as e:\n",
    "            pass"
   ]
  },
  {
   "cell_type": "code",
   "execution_count": 19,
   "metadata": {
    "collapsed": true
   },
   "outputs": [],
   "source": [
    "model.save('../saved_models/keras_discrete_encoding_model_3.h5')"
   ]
  },
  {
   "cell_type": "code",
   "execution_count": 20,
   "metadata": {
    "collapsed": true
   },
   "outputs": [],
   "source": [
    "K.clear_session()"
   ]
  }
 ],
 "metadata": {
  "kernelspec": {
   "display_name": "Python 3",
   "language": "python",
   "name": "python3"
  },
  "language_info": {
   "codemirror_mode": {
    "name": "ipython",
    "version": 3
   },
   "file_extension": ".py",
   "mimetype": "text/x-python",
   "name": "python",
   "nbconvert_exporter": "python",
   "pygments_lexer": "ipython3",
   "version": "3.5.2"
  }
 },
 "nbformat": 4,
 "nbformat_minor": 2
}
